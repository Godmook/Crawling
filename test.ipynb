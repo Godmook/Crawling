{
 "cells": [
  {
   "cell_type": "code",
   "execution_count": 17,
   "metadata": {},
   "outputs": [
    {
     "name": "stdout",
     "output_type": "stream",
     "text": [
      "           id_validator\n",
      "id                     \n",
      "-0.511583     -0.661708\n",
      "-0.932668     -0.903897\n",
      "-2.049364      0.705903\n",
      "                 basic      \n",
      "          id_validator price\n",
      "id                          \n",
      "-0.511583    -0.661708  30.0\n",
      "-0.932668    -0.903897  30.0\n",
      "-2.049364     0.705903   NaN\n"
     ]
    }
   ],
   "source": [
    "import pandas as pd\n",
    "import numpy as np\n",
    "\n",
    "pd.MultiIndex.from_tuples([('basic', 'id'), ('basic', 'id_validator'), ('basic', 'price'), ('spec', 'core'), ('spec', 'clock')])\n",
    "df = pd.DataFrame(columns=['id', 'id_validator'], data=np.random.randn(3, 2))\n",
    "df.set_index('id', inplace=True)\n",
    "\n",
    "print(df)\n",
    "df.columns = pd.MultiIndex.from_product([['basic'], df.columns])\n",
    "a = df.iloc[2].name\n",
    "\n",
    "for k, v in df.loc[df[('basic', 'id_validator')] < 0].iterrows():\n",
    "    df.loc[k, ('basic', 'price')] = 30\n",
    "\n",
    "print(df)"
   ]
  },
  {
   "cell_type": "code",
   "execution_count": 9,
   "metadata": {},
   "outputs": [
    {
     "name": "stdout",
     "output_type": "stream",
     "text": [
      "         id  id_validator\n",
      "0 -2.155033     -1.509024\n",
      "1 -0.485299      1.749285\n",
      "2 -1.120956      1.423640\n",
      "         id  id_validator\n",
      "0 -3.664058     -1.509024\n",
      "1  1.263986      1.749285\n",
      "2  0.302684      1.423640\n"
     ]
    }
   ],
   "source": [
    "df = pd.DataFrame(columns=['id', 'id_validator'], data=np.random.randn(3, 2))\n",
    "print(df)\n",
    "df['price'] = df['id_validator']\n",
    "print(df)"
   ]
  },
  {
   "cell_type": "code",
   "execution_count": 74,
   "metadata": {},
   "outputs": [
    {
     "data": {
      "text/html": [
       "<div>\n",
       "<style scoped>\n",
       "    .dataframe tbody tr th:only-of-type {\n",
       "        vertical-align: middle;\n",
       "    }\n",
       "\n",
       "    .dataframe tbody tr th {\n",
       "        vertical-align: top;\n",
       "    }\n",
       "\n",
       "    .dataframe thead th {\n",
       "        text-align: right;\n",
       "    }\n",
       "</style>\n",
       "<table border=\"1\" class=\"dataframe\">\n",
       "  <thead>\n",
       "    <tr style=\"text-align: right;\">\n",
       "      <th></th>\n",
       "      <th>id</th>\n",
       "      <th>id_validator</th>\n",
       "    </tr>\n",
       "  </thead>\n",
       "  <tbody>\n",
       "    <tr>\n",
       "      <th>0</th>\n",
       "      <td>13190711</td>\n",
       "      <td>True</td>\n",
       "    </tr>\n",
       "    <tr>\n",
       "      <th>1</th>\n",
       "      <td>13190630</td>\n",
       "      <td>True</td>\n",
       "    </tr>\n",
       "    <tr>\n",
       "      <th>2</th>\n",
       "      <td>13190573</td>\n",
       "      <td>True</td>\n",
       "    </tr>\n",
       "    <tr>\n",
       "      <th>3</th>\n",
       "      <td>13190519</td>\n",
       "      <td>True</td>\n",
       "    </tr>\n",
       "    <tr>\n",
       "      <th>4</th>\n",
       "      <td>13190384</td>\n",
       "      <td>True</td>\n",
       "    </tr>\n",
       "    <tr>\n",
       "      <th>...</th>\n",
       "      <td>...</td>\n",
       "      <td>...</td>\n",
       "    </tr>\n",
       "    <tr>\n",
       "      <th>311</th>\n",
       "      <td>11127369</td>\n",
       "      <td>True</td>\n",
       "    </tr>\n",
       "    <tr>\n",
       "      <th>312</th>\n",
       "      <td>10927932</td>\n",
       "      <td>True</td>\n",
       "    </tr>\n",
       "    <tr>\n",
       "      <th>313</th>\n",
       "      <td>10927923</td>\n",
       "      <td>True</td>\n",
       "    </tr>\n",
       "    <tr>\n",
       "      <th>314</th>\n",
       "      <td>10927911</td>\n",
       "      <td>True</td>\n",
       "    </tr>\n",
       "    <tr>\n",
       "      <th>315</th>\n",
       "      <td>15562250</td>\n",
       "      <td>True</td>\n",
       "    </tr>\n",
       "  </tbody>\n",
       "</table>\n",
       "<p>316 rows × 2 columns</p>\n",
       "</div>"
      ],
      "text/plain": [
       "           id  id_validator\n",
       "0    13190711          True\n",
       "1    13190630          True\n",
       "2    13190573          True\n",
       "3    13190519          True\n",
       "4    13190384          True\n",
       "..        ...           ...\n",
       "311  11127369          True\n",
       "312  10927932          True\n",
       "313  10927923          True\n",
       "314  10927911          True\n",
       "315  15562250          True\n",
       "\n",
       "[316 rows x 2 columns]"
      ]
     },
     "execution_count": 74,
     "metadata": {},
     "output_type": "execute_result"
    }
   ],
   "source": [
    "df = pd.read_csv(f'SSD.csv')\n",
    "# df.loc[df[('basic', 'id_validator')] == True]\n",
    "# df.columns = pd.MultiIndex.from_product([['basic'], df.columns])\n",
    "df"
   ]
  },
  {
   "cell_type": "code",
   "execution_count": 129,
   "metadata": {},
   "outputs": [
    {
     "name": "stdout",
     "output_type": "stream",
     "text": [
      "                  B         C\n",
      "A                            \n",
      " 0.951513  0.058953 -0.207132\n",
      " 0.372932  0.995785 -0.832741\n",
      "-0.818930 -0.790585  0.985096\n",
      "                 B         C\n",
      "A                           \n",
      "1.117549  0.097771 -0.364268\n",
      "1.173383  0.093490  1.596162\n",
      "1.057982  2.737164  1.798586\n"
     ]
    }
   ],
   "source": [
    "df = pd.DataFrame(np.random.randn(3, 3), columns=list('ABC'))\n",
    "df.set_index('A', inplace=True)\n",
    "print(df)\n",
    "# df.to_hdf('test.h5', 'bbb')\n",
    "df = pd.read_hdf('test.h5', 'bbb')\n",
    "print(df)"
   ]
  },
  {
   "cell_type": "code",
   "execution_count": 66,
   "metadata": {},
   "outputs": [
    {
     "data": {
      "text/plain": [
       "Index(['제조회사', '등록년월', '[기본사양]제품분류', '[기본사양]폼팩터', '[기본사양]인터페이스', '[기본사양]용량',\n",
       "       '[기본사양]메모리 타입', '[기본사양]낸드 구조', '[기본사양]RAM 유무', '[기본사양]RAM 타입',\n",
       "       '[기본사양]컨트롤러', '[성능]순차읽기', '[성능]순차쓰기', '[성능]읽기IOPS', '[성능]쓰기IOPS',\n",
       "       '지원기능TRIM', '지원기능GC', '지원기능S.M.A.R.T', '부가기능AES 암호화', '부가기능전용 S/W',\n",
       "       '소프트웨어 지원관리기능', '[환경특성]MTBF', '[환경특성]TBW', 'A/S기간5년', '[크기/무게]가로',\n",
       "       '[크기/무게]세로', '[크기/무게]두께', '[크기/무게]무게', 'KC인증적합성평가인증', 'KC인증안전확인인증'],\n",
       "      dtype='object')"
      ]
     },
     "execution_count": 66,
     "metadata": {},
     "output_type": "execute_result"
    }
   ],
   "source": [
    "import pandas as pd\n",
    "df = pd.read_pickle('SSD2.pkl')\n",
    "df['spec'].keys()"
   ]
  },
  {
   "cell_type": "code",
   "execution_count": 57,
   "metadata": {},
   "outputs": [
    {
     "name": "stdout",
     "output_type": "stream",
     "text": [
      "                  B         C\n",
      "A                            \n",
      " 1.599932 -2.302774 -0.549416\n",
      "-0.593894  2.244382  0.391734\n",
      "-1.723089 -0.380325  0.009819\n",
      "Index(['B', 'C'], dtype='object')\n",
      "Float64Index([1.5999316453802, -0.5938941821687909, -1.7230889777400156], dtype='float64', name='A')\n",
      "B   -2.302774\n",
      "C   -0.549416\n",
      "Name: 1.5999316453802, dtype: float64\n",
      "B    2.244382\n",
      "C    0.391734\n",
      "Name: -0.5938941821687909, dtype: float64\n",
      "B   -0.380325\n",
      "C    0.009819\n",
      "Name: -1.7230889777400156, dtype: float64\n"
     ]
    }
   ],
   "source": [
    "keys = []\n",
    "with pd.HDFStore('test.h5') as store:\n",
    "    keys = [e[1:] for e in store.keys()]\n",
    "df = pd.read_hdf('test.h5', keys[6])\n",
    "print(df)\n",
    "\n",
    "print(df.keys())\n",
    "print(df.index)\n",
    "\n",
    "for e in df.index:\n",
    "    print(df.loc[e])\n"
   ]
  },
  {
   "cell_type": "code",
   "execution_count": 98,
   "metadata": {},
   "outputs": [
    {
     "name": "stdout",
     "output_type": "stream",
     "text": [
      "          A                             B                    \n",
      "          a         b         c         a         b         c\n",
      "0  0.942282  1.122316 -1.534535 -0.738435  1.219521 -0.660213\n",
      "1 -1.000766  1.220843  1.799400 -0.158928 -0.331117  0.095575\n",
      "2 -1.326200  0.369021  0.716628  0.249470 -0.649662 -0.031195\n",
      "------------------------------\n",
      "                       A                 A.1                  A.2  \\\n",
      "NaN                    a                   b                    c   \n",
      "0.0   0.9422824331902468  1.1223164034308577  -1.5345352799747125   \n",
      "1.0  -1.0007656784861467   1.220842875477749   1.7994001320259332   \n",
      "2.0  -1.3261995957110504  0.3690211091028248     0.71662764971489   \n",
      "\n",
      "                        B                   B.1                    B.2  \n",
      "NaN                     a                     b                      c  \n",
      "0.0   -0.7384347520470522     1.219521030463626    -0.6602130626888103  \n",
      "1.0  -0.15892763683032923  -0.33111695478969766    0.09557466707600377  \n",
      "2.0   0.24946991039403243   -0.6496623165745024  -0.031195070579843852  \n"
     ]
    }
   ],
   "source": [
    "df = pd.DataFrame(np.random.randn(3, 6), columns=pd.MultiIndex.from_product([list('AB'), list('abc')]))\n",
    "print(df)\n",
    "df.to_csv('test.csv')\n",
    "df = pd.read_csv('test.csv', index_col=0)\n",
    "print('-'*30)\n",
    "print(df)"
   ]
  },
  {
   "cell_type": "code",
   "execution_count": 96,
   "metadata": {},
   "outputs": [
    {
     "name": "stdout",
     "output_type": "stream",
     "text": [
      "                  B         C\n",
      "A                            \n",
      "-0.176160  1.768536 -2.343992\n",
      "-0.326147 -1.289444 -0.357165\n",
      "-0.316305  0.174374  0.110372\n",
      "                  B         C\n",
      "A                            \n",
      "-0.176160  1.768536 -2.343992\n",
      "-0.326147 -1.289444 -0.357165\n",
      "-0.316305  0.174374  0.110372\n"
     ]
    }
   ],
   "source": [
    "df = pd.DataFrame(np.random.randn(3, 3), columns=list('ABC'))\n",
    "df.set_index('A', inplace=True)\n",
    "print(df)\n",
    "df.to_csv('test.csv')\n",
    "df = pd.read_csv('test.csv', index_col=0)\n",
    "print(df)"
   ]
  }
 ],
 "metadata": {
  "kernelspec": {
   "display_name": "Python 3.10.4 ('Com')",
   "language": "python",
   "name": "python3"
  },
  "language_info": {
   "codemirror_mode": {
    "name": "ipython",
    "version": 3
   },
   "file_extension": ".py",
   "mimetype": "text/x-python",
   "name": "python",
   "nbconvert_exporter": "python",
   "pygments_lexer": "ipython3",
   "version": "3.10.4"
  },
  "orig_nbformat": 4,
  "vscode": {
   "interpreter": {
    "hash": "29e5804a3511042fc03beb6861a9fae66cc530a6bd61e1c0a49ac946a3295055"
   }
  }
 },
 "nbformat": 4,
 "nbformat_minor": 2
}
